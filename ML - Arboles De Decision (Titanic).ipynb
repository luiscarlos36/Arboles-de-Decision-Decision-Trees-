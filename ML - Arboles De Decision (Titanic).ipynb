{
 "cells": [
  {
   "cell_type": "markdown",
   "id": "dfde5eb7",
   "metadata": {},
   "source": [
    "# Árboles de Decisión"
   ]
  },
  {
   "cell_type": "markdown",
   "id": "ecb4846f",
   "metadata": {},
   "source": [
    "Para esta práctica utilizaremos el dataset del Titanic (muy popular en Kaggle), que contiene los datos de los pasajeros del Titanic, famoso barco que se hundió en su primer viaje en 1912. Dicho dataset contiene los datos de los pasajeros así como información sobre si sobrevivieron o no. Generaremos algunos árboles de decisión y determinaremos cuál de ellos fue el modelo más preciso."
   ]
  },
  {
   "cell_type": "markdown",
   "id": "053f6fae",
   "metadata": {},
   "source": [
    "Descripción de los datos:\n",
    "\n",
    "1. superviviente: El pasajero sobrevivió 0 = No, 1 = Si\n",
    "2. clase_billete: Clase de camarote 1 = Primera clase, 2 = Segunda, 3 = Tercera clase (la más pobre)\n",
    "3. genero: hombre/mujer\n",
    "4. edad\n",
    "5. n_hermanos_esposos: Número de hermanos o pareja a bordo del Titanic\n",
    "6. n_hijos_padres: Número de hijos o padres a bordo del Titanic\n",
    "7. precio_billete\n",
    "8. puerto_salida: Puerto donde el pasajero tomó el barco (C=Cherbourg, Q=Queenstown, S=Southampton)"
   ]
  },
  {
   "cell_type": "code",
   "execution_count": 1,
   "id": "6e014060",
   "metadata": {},
   "outputs": [],
   "source": [
    "import pandas as pd"
   ]
  },
  {
   "cell_type": "code",
   "execution_count": 2,
   "id": "5ef61be0",
   "metadata": {},
   "outputs": [],
   "source": [
    "# Cargamos la tabla\n",
    "datos = pd.read_csv(\"C:\\\\Users\\\\Luis Carlos\\\\Documents\\\\CSVs\\\\titanic.csv\")"
   ]
  },
  {
   "cell_type": "code",
   "execution_count": 3,
   "id": "d5b1609e",
   "metadata": {},
   "outputs": [
    {
     "data": {
      "text/html": [
       "<div>\n",
       "<style scoped>\n",
       "    .dataframe tbody tr th:only-of-type {\n",
       "        vertical-align: middle;\n",
       "    }\n",
       "\n",
       "    .dataframe tbody tr th {\n",
       "        vertical-align: top;\n",
       "    }\n",
       "\n",
       "    .dataframe thead th {\n",
       "        text-align: right;\n",
       "    }\n",
       "</style>\n",
       "<table border=\"1\" class=\"dataframe\">\n",
       "  <thead>\n",
       "    <tr style=\"text-align: right;\">\n",
       "      <th></th>\n",
       "      <th>superviviente</th>\n",
       "      <th>clase_billete</th>\n",
       "      <th>genero</th>\n",
       "      <th>edad</th>\n",
       "      <th>n_hermanos_esposos</th>\n",
       "      <th>n_hijos_padres</th>\n",
       "      <th>precio_billete</th>\n",
       "      <th>puerto_salida</th>\n",
       "    </tr>\n",
       "  </thead>\n",
       "  <tbody>\n",
       "    <tr>\n",
       "      <th>0</th>\n",
       "      <td>0</td>\n",
       "      <td>3</td>\n",
       "      <td>hombre</td>\n",
       "      <td>22.0</td>\n",
       "      <td>1</td>\n",
       "      <td>0</td>\n",
       "      <td>7.2500</td>\n",
       "      <td>S</td>\n",
       "    </tr>\n",
       "    <tr>\n",
       "      <th>1</th>\n",
       "      <td>1</td>\n",
       "      <td>1</td>\n",
       "      <td>mujer</td>\n",
       "      <td>38.0</td>\n",
       "      <td>1</td>\n",
       "      <td>0</td>\n",
       "      <td>71.2833</td>\n",
       "      <td>C</td>\n",
       "    </tr>\n",
       "    <tr>\n",
       "      <th>2</th>\n",
       "      <td>1</td>\n",
       "      <td>3</td>\n",
       "      <td>mujer</td>\n",
       "      <td>26.0</td>\n",
       "      <td>0</td>\n",
       "      <td>0</td>\n",
       "      <td>7.9250</td>\n",
       "      <td>S</td>\n",
       "    </tr>\n",
       "    <tr>\n",
       "      <th>3</th>\n",
       "      <td>1</td>\n",
       "      <td>1</td>\n",
       "      <td>mujer</td>\n",
       "      <td>35.0</td>\n",
       "      <td>1</td>\n",
       "      <td>0</td>\n",
       "      <td>53.1000</td>\n",
       "      <td>S</td>\n",
       "    </tr>\n",
       "    <tr>\n",
       "      <th>4</th>\n",
       "      <td>0</td>\n",
       "      <td>3</td>\n",
       "      <td>hombre</td>\n",
       "      <td>35.0</td>\n",
       "      <td>0</td>\n",
       "      <td>0</td>\n",
       "      <td>8.0500</td>\n",
       "      <td>S</td>\n",
       "    </tr>\n",
       "    <tr>\n",
       "      <th>...</th>\n",
       "      <td>...</td>\n",
       "      <td>...</td>\n",
       "      <td>...</td>\n",
       "      <td>...</td>\n",
       "      <td>...</td>\n",
       "      <td>...</td>\n",
       "      <td>...</td>\n",
       "      <td>...</td>\n",
       "    </tr>\n",
       "    <tr>\n",
       "      <th>886</th>\n",
       "      <td>0</td>\n",
       "      <td>2</td>\n",
       "      <td>hombre</td>\n",
       "      <td>27.0</td>\n",
       "      <td>0</td>\n",
       "      <td>0</td>\n",
       "      <td>13.0000</td>\n",
       "      <td>S</td>\n",
       "    </tr>\n",
       "    <tr>\n",
       "      <th>887</th>\n",
       "      <td>1</td>\n",
       "      <td>1</td>\n",
       "      <td>mujer</td>\n",
       "      <td>19.0</td>\n",
       "      <td>0</td>\n",
       "      <td>0</td>\n",
       "      <td>30.0000</td>\n",
       "      <td>S</td>\n",
       "    </tr>\n",
       "    <tr>\n",
       "      <th>888</th>\n",
       "      <td>0</td>\n",
       "      <td>3</td>\n",
       "      <td>mujer</td>\n",
       "      <td>NaN</td>\n",
       "      <td>1</td>\n",
       "      <td>2</td>\n",
       "      <td>23.4500</td>\n",
       "      <td>S</td>\n",
       "    </tr>\n",
       "    <tr>\n",
       "      <th>889</th>\n",
       "      <td>1</td>\n",
       "      <td>1</td>\n",
       "      <td>hombre</td>\n",
       "      <td>26.0</td>\n",
       "      <td>0</td>\n",
       "      <td>0</td>\n",
       "      <td>30.0000</td>\n",
       "      <td>C</td>\n",
       "    </tr>\n",
       "    <tr>\n",
       "      <th>890</th>\n",
       "      <td>0</td>\n",
       "      <td>3</td>\n",
       "      <td>hombre</td>\n",
       "      <td>32.0</td>\n",
       "      <td>0</td>\n",
       "      <td>0</td>\n",
       "      <td>7.7500</td>\n",
       "      <td>Q</td>\n",
       "    </tr>\n",
       "  </tbody>\n",
       "</table>\n",
       "<p>891 rows × 8 columns</p>\n",
       "</div>"
      ],
      "text/plain": [
       "     superviviente  clase_billete  genero  edad  n_hermanos_esposos  \\\n",
       "0                0              3  hombre  22.0                   1   \n",
       "1                1              1   mujer  38.0                   1   \n",
       "2                1              3   mujer  26.0                   0   \n",
       "3                1              1   mujer  35.0                   1   \n",
       "4                0              3  hombre  35.0                   0   \n",
       "..             ...            ...     ...   ...                 ...   \n",
       "886              0              2  hombre  27.0                   0   \n",
       "887              1              1   mujer  19.0                   0   \n",
       "888              0              3   mujer   NaN                   1   \n",
       "889              1              1  hombre  26.0                   0   \n",
       "890              0              3  hombre  32.0                   0   \n",
       "\n",
       "     n_hijos_padres  precio_billete puerto_salida  \n",
       "0                 0          7.2500             S  \n",
       "1                 0         71.2833             C  \n",
       "2                 0          7.9250             S  \n",
       "3                 0         53.1000             S  \n",
       "4                 0          8.0500             S  \n",
       "..              ...             ...           ...  \n",
       "886               0         13.0000             S  \n",
       "887               0         30.0000             S  \n",
       "888               2         23.4500             S  \n",
       "889               0         30.0000             C  \n",
       "890               0          7.7500             Q  \n",
       "\n",
       "[891 rows x 8 columns]"
      ]
     },
     "execution_count": 3,
     "metadata": {},
     "output_type": "execute_result"
    }
   ],
   "source": [
    "# Visualizamos la tabla\n",
    "datos"
   ]
  },
  {
   "cell_type": "markdown",
   "id": "b6f08118",
   "metadata": {},
   "source": [
    "Los algoritmos de creación de árboles están en el submódulo \"sklearn.tree\". Procedemos a cargar este módulo y también el de la validación cruzada."
   ]
  },
  {
   "cell_type": "code",
   "execution_count": 4,
   "id": "1c28f949",
   "metadata": {},
   "outputs": [],
   "source": [
    "from sklearn import tree\n",
    "from sklearn.model_selection import cross_val_score"
   ]
  },
  {
   "cell_type": "markdown",
   "id": "93778daa",
   "metadata": {},
   "source": [
    "Sci-Kit Learn nos proporciona modelos de árboles de decisión tanto para realizar regresiones lineales (utilizadas para predecir valores numéricos) como para regresiones logísticas o clasificaciones (utilizadas para predecir etiquetas)."
   ]
  },
  {
   "cell_type": "markdown",
   "id": "23c7449c",
   "metadata": {},
   "source": [
    "Los modelos que contiene sk-learn son:\n",
    "\n",
    "1. Para regresiones lineales: tree.DecisionTreeRegression()\n",
    "2. Para regresiones logísticas o clasificaciones: tree.DecisionTreeClassifier()\n",
    "\n",
    "En este caso utilizaremos el de clasificación para intentar predecir, en base a ciertos parámetros, si un pasajero sobrevivió o no."
   ]
  },
  {
   "cell_type": "code",
   "execution_count": 5,
   "id": "1c11075a",
   "metadata": {},
   "outputs": [],
   "source": [
    "# Creamos el modelo\n",
    "arbol = tree.DecisionTreeClassifier()"
   ]
  },
  {
   "cell_type": "markdown",
   "id": "876d4ca0",
   "metadata": {},
   "source": [
    "Se debe realizar un preprocesamiento de los datos de la tabla en caso de que tengan valores nulos o faltantes. Para ello, consultamos esta información con la siguiente función:"
   ]
  },
  {
   "cell_type": "code",
   "execution_count": 6,
   "id": "3875e87e",
   "metadata": {},
   "outputs": [
    {
     "data": {
      "text/plain": [
       "superviviente           0\n",
       "clase_billete           0\n",
       "genero                  0\n",
       "edad                  177\n",
       "n_hermanos_esposos      0\n",
       "n_hijos_padres          0\n",
       "precio_billete          0\n",
       "puerto_salida           2\n",
       "dtype: int64"
      ]
     },
     "execution_count": 6,
     "metadata": {},
     "output_type": "execute_result"
    }
   ],
   "source": [
    "datos.isnull().sum() "
   ]
  },
  {
   "cell_type": "markdown",
   "id": "21f917c4",
   "metadata": {},
   "source": [
    "La columna \"edad\" tiene 177 valores nulos. Al ser una columna numérica, rellenaremos los datos faltantes con la media de los datos contenidos en esta columna. Por otro lado, la columna \"puerto_salida\" contiene 2 valores nulos, los cuales, al ser una columna categórica, se rellenará con la moda de los valores de ésta."
   ]
  },
  {
   "cell_type": "markdown",
   "id": "930e62ed",
   "metadata": {},
   "source": [
    "Comenzaremos por rellenar los valores faltantes de la columna categórica."
   ]
  },
  {
   "cell_type": "code",
   "execution_count": 7,
   "id": "b276e052",
   "metadata": {},
   "outputs": [
    {
     "data": {
      "text/plain": [
       "S    644\n",
       "C    168\n",
       "Q     77\n",
       "Name: puerto_salida, dtype: int64"
      ]
     },
     "execution_count": 7,
     "metadata": {},
     "output_type": "execute_result"
    }
   ],
   "source": [
    "# Visualizamos los valores y la cantidad de ellos en esta columna\n",
    "datos.puerto_salida.value_counts()"
   ]
  },
  {
   "cell_type": "markdown",
   "id": "4e205b8a",
   "metadata": {},
   "source": [
    "Rellenaremos con \"S\" los 2 valores faltantes, ya que es el valor que más se repite."
   ]
  },
  {
   "cell_type": "code",
   "execution_count": 8,
   "id": "81d9b68c",
   "metadata": {},
   "outputs": [],
   "source": [
    "# Rellenamos los datos faltantes\n",
    "datos.puerto_salida = datos.puerto_salida.fillna(datos.puerto_salida.mode()[0])"
   ]
  },
  {
   "cell_type": "code",
   "execution_count": 9,
   "id": "7e4605c9",
   "metadata": {},
   "outputs": [
    {
     "data": {
      "text/plain": [
       "superviviente           0\n",
       "clase_billete           0\n",
       "genero                  0\n",
       "edad                  177\n",
       "n_hermanos_esposos      0\n",
       "n_hijos_padres          0\n",
       "precio_billete          0\n",
       "puerto_salida           0\n",
       "dtype: int64"
      ]
     },
     "execution_count": 9,
     "metadata": {},
     "output_type": "execute_result"
    }
   ],
   "source": [
    "datos.isnull().sum()"
   ]
  },
  {
   "cell_type": "code",
   "execution_count": 10,
   "id": "16c7609f",
   "metadata": {},
   "outputs": [
    {
     "data": {
      "text/plain": [
       "S    646\n",
       "C    168\n",
       "Q     77\n",
       "Name: puerto_salida, dtype: int64"
      ]
     },
     "execution_count": 10,
     "metadata": {},
     "output_type": "execute_result"
    }
   ],
   "source": [
    "datos.puerto_salida.value_counts()"
   ]
  },
  {
   "cell_type": "markdown",
   "id": "fc5d0298",
   "metadata": {},
   "source": [
    "Podemos observar que efectivamente se han rellenado los valores faltantes de esta columna. Ahora procedemos a rellenar los nulos de la columna numérica."
   ]
  },
  {
   "cell_type": "code",
   "execution_count": 11,
   "id": "ebd96f42",
   "metadata": {},
   "outputs": [],
   "source": [
    "# Rellenamos los datos faltantes\n",
    "datos.edad = datos.edad.fillna(datos.edad.mean())"
   ]
  },
  {
   "cell_type": "code",
   "execution_count": 12,
   "id": "d238d618",
   "metadata": {},
   "outputs": [
    {
     "data": {
      "text/plain": [
       "superviviente         0\n",
       "clase_billete         0\n",
       "genero                0\n",
       "edad                  0\n",
       "n_hermanos_esposos    0\n",
       "n_hijos_padres        0\n",
       "precio_billete        0\n",
       "puerto_salida         0\n",
       "dtype: int64"
      ]
     },
     "execution_count": 12,
     "metadata": {},
     "output_type": "execute_result"
    }
   ],
   "source": [
    "datos.isnull().sum() "
   ]
  },
  {
   "cell_type": "markdown",
   "id": "3e429676",
   "metadata": {},
   "source": [
    "Vemos que hemos rellenado todos los valores nulos de nuestra tabla correctamente. Ahora convertiremos las variables categóricas a variables dummies y las agregaremos a nuestra tabla."
   ]
  },
  {
   "cell_type": "code",
   "execution_count": 13,
   "id": "d224a8a8",
   "metadata": {},
   "outputs": [],
   "source": [
    "columnas_categoricas = [\"genero\", \"puerto_salida\"]"
   ]
  },
  {
   "cell_type": "code",
   "execution_count": 14,
   "id": "e0c84d29",
   "metadata": {},
   "outputs": [],
   "source": [
    "datos_categoricos = pd.get_dummies(datos[columnas_categoricas])"
   ]
  },
  {
   "cell_type": "code",
   "execution_count": 15,
   "id": "ea5c1a01",
   "metadata": {},
   "outputs": [
    {
     "data": {
      "text/html": [
       "<div>\n",
       "<style scoped>\n",
       "    .dataframe tbody tr th:only-of-type {\n",
       "        vertical-align: middle;\n",
       "    }\n",
       "\n",
       "    .dataframe tbody tr th {\n",
       "        vertical-align: top;\n",
       "    }\n",
       "\n",
       "    .dataframe thead th {\n",
       "        text-align: right;\n",
       "    }\n",
       "</style>\n",
       "<table border=\"1\" class=\"dataframe\">\n",
       "  <thead>\n",
       "    <tr style=\"text-align: right;\">\n",
       "      <th></th>\n",
       "      <th>genero_hombre</th>\n",
       "      <th>genero_mujer</th>\n",
       "      <th>puerto_salida_C</th>\n",
       "      <th>puerto_salida_Q</th>\n",
       "      <th>puerto_salida_S</th>\n",
       "    </tr>\n",
       "  </thead>\n",
       "  <tbody>\n",
       "    <tr>\n",
       "      <th>0</th>\n",
       "      <td>1</td>\n",
       "      <td>0</td>\n",
       "      <td>0</td>\n",
       "      <td>0</td>\n",
       "      <td>1</td>\n",
       "    </tr>\n",
       "    <tr>\n",
       "      <th>1</th>\n",
       "      <td>0</td>\n",
       "      <td>1</td>\n",
       "      <td>1</td>\n",
       "      <td>0</td>\n",
       "      <td>0</td>\n",
       "    </tr>\n",
       "    <tr>\n",
       "      <th>2</th>\n",
       "      <td>0</td>\n",
       "      <td>1</td>\n",
       "      <td>0</td>\n",
       "      <td>0</td>\n",
       "      <td>1</td>\n",
       "    </tr>\n",
       "    <tr>\n",
       "      <th>3</th>\n",
       "      <td>0</td>\n",
       "      <td>1</td>\n",
       "      <td>0</td>\n",
       "      <td>0</td>\n",
       "      <td>1</td>\n",
       "    </tr>\n",
       "    <tr>\n",
       "      <th>4</th>\n",
       "      <td>1</td>\n",
       "      <td>0</td>\n",
       "      <td>0</td>\n",
       "      <td>0</td>\n",
       "      <td>1</td>\n",
       "    </tr>\n",
       "  </tbody>\n",
       "</table>\n",
       "</div>"
      ],
      "text/plain": [
       "   genero_hombre  genero_mujer  puerto_salida_C  puerto_salida_Q  \\\n",
       "0              1             0                0                0   \n",
       "1              0             1                1                0   \n",
       "2              0             1                0                0   \n",
       "3              0             1                0                0   \n",
       "4              1             0                0                0   \n",
       "\n",
       "   puerto_salida_S  \n",
       "0                1  \n",
       "1                0  \n",
       "2                1  \n",
       "3                1  \n",
       "4                1  "
      ]
     },
     "execution_count": 15,
     "metadata": {},
     "output_type": "execute_result"
    }
   ],
   "source": [
    "# Visualizamos las variables dummies\n",
    "datos_categoricos.head()"
   ]
  },
  {
   "cell_type": "code",
   "execution_count": 16,
   "id": "e737dc10",
   "metadata": {},
   "outputs": [],
   "source": [
    "# Reemplazamos las variables dummies por las categóricas en nuestra tabla\n",
    "\n",
    "pasajeros = (\n",
    "    pd.concat([\n",
    "        datos.drop(columnas_categoricas, axis=1),\n",
    "        datos_categoricos\n",
    "    ],axis=1\n",
    "    )\n",
    ")"
   ]
  },
  {
   "cell_type": "code",
   "execution_count": 17,
   "id": "83e503ed",
   "metadata": {},
   "outputs": [
    {
     "data": {
      "text/html": [
       "<div>\n",
       "<style scoped>\n",
       "    .dataframe tbody tr th:only-of-type {\n",
       "        vertical-align: middle;\n",
       "    }\n",
       "\n",
       "    .dataframe tbody tr th {\n",
       "        vertical-align: top;\n",
       "    }\n",
       "\n",
       "    .dataframe thead th {\n",
       "        text-align: right;\n",
       "    }\n",
       "</style>\n",
       "<table border=\"1\" class=\"dataframe\">\n",
       "  <thead>\n",
       "    <tr style=\"text-align: right;\">\n",
       "      <th></th>\n",
       "      <th>superviviente</th>\n",
       "      <th>clase_billete</th>\n",
       "      <th>edad</th>\n",
       "      <th>n_hermanos_esposos</th>\n",
       "      <th>n_hijos_padres</th>\n",
       "      <th>precio_billete</th>\n",
       "      <th>genero_hombre</th>\n",
       "      <th>genero_mujer</th>\n",
       "      <th>puerto_salida_C</th>\n",
       "      <th>puerto_salida_Q</th>\n",
       "      <th>puerto_salida_S</th>\n",
       "    </tr>\n",
       "  </thead>\n",
       "  <tbody>\n",
       "    <tr>\n",
       "      <th>0</th>\n",
       "      <td>0</td>\n",
       "      <td>3</td>\n",
       "      <td>22.0</td>\n",
       "      <td>1</td>\n",
       "      <td>0</td>\n",
       "      <td>7.2500</td>\n",
       "      <td>1</td>\n",
       "      <td>0</td>\n",
       "      <td>0</td>\n",
       "      <td>0</td>\n",
       "      <td>1</td>\n",
       "    </tr>\n",
       "    <tr>\n",
       "      <th>1</th>\n",
       "      <td>1</td>\n",
       "      <td>1</td>\n",
       "      <td>38.0</td>\n",
       "      <td>1</td>\n",
       "      <td>0</td>\n",
       "      <td>71.2833</td>\n",
       "      <td>0</td>\n",
       "      <td>1</td>\n",
       "      <td>1</td>\n",
       "      <td>0</td>\n",
       "      <td>0</td>\n",
       "    </tr>\n",
       "    <tr>\n",
       "      <th>2</th>\n",
       "      <td>1</td>\n",
       "      <td>3</td>\n",
       "      <td>26.0</td>\n",
       "      <td>0</td>\n",
       "      <td>0</td>\n",
       "      <td>7.9250</td>\n",
       "      <td>0</td>\n",
       "      <td>1</td>\n",
       "      <td>0</td>\n",
       "      <td>0</td>\n",
       "      <td>1</td>\n",
       "    </tr>\n",
       "    <tr>\n",
       "      <th>3</th>\n",
       "      <td>1</td>\n",
       "      <td>1</td>\n",
       "      <td>35.0</td>\n",
       "      <td>1</td>\n",
       "      <td>0</td>\n",
       "      <td>53.1000</td>\n",
       "      <td>0</td>\n",
       "      <td>1</td>\n",
       "      <td>0</td>\n",
       "      <td>0</td>\n",
       "      <td>1</td>\n",
       "    </tr>\n",
       "    <tr>\n",
       "      <th>4</th>\n",
       "      <td>0</td>\n",
       "      <td>3</td>\n",
       "      <td>35.0</td>\n",
       "      <td>0</td>\n",
       "      <td>0</td>\n",
       "      <td>8.0500</td>\n",
       "      <td>1</td>\n",
       "      <td>0</td>\n",
       "      <td>0</td>\n",
       "      <td>0</td>\n",
       "      <td>1</td>\n",
       "    </tr>\n",
       "  </tbody>\n",
       "</table>\n",
       "</div>"
      ],
      "text/plain": [
       "   superviviente  clase_billete  edad  n_hermanos_esposos  n_hijos_padres  \\\n",
       "0              0              3  22.0                   1               0   \n",
       "1              1              1  38.0                   1               0   \n",
       "2              1              3  26.0                   0               0   \n",
       "3              1              1  35.0                   1               0   \n",
       "4              0              3  35.0                   0               0   \n",
       "\n",
       "   precio_billete  genero_hombre  genero_mujer  puerto_salida_C  \\\n",
       "0          7.2500              1             0                0   \n",
       "1         71.2833              0             1                1   \n",
       "2          7.9250              0             1                0   \n",
       "3         53.1000              0             1                0   \n",
       "4          8.0500              1             0                0   \n",
       "\n",
       "   puerto_salida_Q  puerto_salida_S  \n",
       "0                0                1  \n",
       "1                0                0  \n",
       "2                0                1  \n",
       "3                0                1  \n",
       "4                0                1  "
      ]
     },
     "execution_count": 17,
     "metadata": {},
     "output_type": "execute_result"
    }
   ],
   "source": [
    "# Visualizamos nuestra nueva tabla\n",
    "pasajeros.head()"
   ]
  },
  {
   "cell_type": "markdown",
   "id": "5082c5f1",
   "metadata": {},
   "source": [
    "## Primer modelo: Árbol normal"
   ]
  },
  {
   "cell_type": "code",
   "execution_count": 18,
   "id": "9838657e",
   "metadata": {},
   "outputs": [
    {
     "data": {
      "text/plain": [
       "DecisionTreeClassifier()"
      ]
     },
     "execution_count": 18,
     "metadata": {},
     "output_type": "execute_result"
    }
   ],
   "source": [
    "# Hacemos el ajuste del modelo, quitando la variable objetivo (superviviente)\n",
    "arbol.fit(pasajeros.drop(\"superviviente\", axis=1), pasajeros.superviviente)"
   ]
  },
  {
   "cell_type": "code",
   "execution_count": 19,
   "id": "e1a32554",
   "metadata": {},
   "outputs": [
    {
     "data": {
      "text/plain": [
       "0.7650424695130578"
      ]
     },
     "execution_count": 19,
     "metadata": {},
     "output_type": "execute_result"
    }
   ],
   "source": [
    "# Determinamos mediante el criterio curva ROC qué tan efectivo fue el modelo\n",
    "cross_val_score(arbol, pasajeros.drop(\"superviviente\", axis=1), pasajeros.superviviente, scoring=\"roc_auc\", \n",
    "                cv=10).mean()"
   ]
  },
  {
   "cell_type": "markdown",
   "id": "92bf70a2",
   "metadata": {},
   "source": [
    "Una funcionalidad interesante que tienen los arboles de decision en sklearn es que se pueden visualizar con Graphviz. Se puede exportar el árbol y abrirlo posteriormente con graphviz desde la terminal (o desde la página http://webgraphviz.com/ que renderiza archivos de graphviz), o también desde la página \n",
    "Graphviz Online - https://dreampuf.github.io."
   ]
  },
  {
   "cell_type": "code",
   "execution_count": 20,
   "id": "a1f93015",
   "metadata": {},
   "outputs": [],
   "source": [
    "# Generamos el archivo que ingresaremos en la página antes mencionada\n",
    "\n",
    "import graphviz\n",
    "tree.export_graphviz(arbol, out_file=\"arbol.dot\")"
   ]
  },
  {
   "cell_type": "markdown",
   "id": "0eab421a",
   "metadata": {},
   "source": [
    "<img src=\"arbol.jpg\">"
   ]
  },
  {
   "cell_type": "markdown",
   "id": "324b68e6",
   "metadata": {},
   "source": [
    "Después de ingresar en la página el código que se nos generó en la línea anterior, nos arrojó el siguiente árbol. Vemos que es un árbol extremadamente enorme, que ni siquiera cupo en el navegador. De cualquier forma, lo que nos interesa no es la visualización del árbol sino la efectividad del mismo, ver qué tan preciso fue."
   ]
  },
  {
   "cell_type": "markdown",
   "id": "07a16802",
   "metadata": {},
   "source": [
    "Otra funcionalidad que tienen los árboles de decisión en sklearn es que nos dan una indicación de la importancia de cada variable en el modelo, almacenada en el atributo \"feature_importances_\". Calcula la importancia en función de la ganancia de información de cada variable, es decir, qué variables separan mejor las distintas clases."
   ]
  },
  {
   "cell_type": "code",
   "execution_count": 21,
   "id": "6b0385e5",
   "metadata": {},
   "outputs": [
    {
     "data": {
      "text/plain": [
       "array([0.10751562, 0.25416345, 0.0464604 , 0.02372338, 0.23818703,\n",
       "       0.30933519, 0.        , 0.00768458, 0.00274536, 0.01018498])"
      ]
     },
     "execution_count": 21,
     "metadata": {},
     "output_type": "execute_result"
    }
   ],
   "source": [
    "arbol.feature_importances_"
   ]
  },
  {
   "cell_type": "code",
   "execution_count": 22,
   "id": "16b77a34",
   "metadata": {},
   "outputs": [
    {
     "data": {
      "text/plain": [
       "{'clase_billete': 0.10751561696823288,\n",
       " 'edad': 0.2541634519507043,\n",
       " 'n_hermanos_esposos': 0.04646040116394076,\n",
       " 'n_hijos_padres': 0.02372338380669265,\n",
       " 'precio_billete': 0.23818703033756278,\n",
       " 'genero_hombre': 0.30933518862833875,\n",
       " 'genero_mujer': 0.0,\n",
       " 'puerto_salida_C': 0.007684582596970616,\n",
       " 'puerto_salida_Q': 0.0027453611099580314,\n",
       " 'puerto_salida_S': 0.010184983437599339}"
      ]
     },
     "execution_count": 22,
     "metadata": {},
     "output_type": "execute_result"
    }
   ],
   "source": [
    "dict(zip(\n",
    "    pasajeros.drop(\"superviviente\", axis=1),\n",
    "    arbol.feature_importances_\n",
    "))"
   ]
  },
  {
   "cell_type": "markdown",
   "id": "35e21ab6",
   "metadata": {},
   "source": [
    "Se puede observar que el factor más determinante fue el de si el género de una persona era el de ser mujer. El segundo fue el de la edad y el tercero fue el de el precio del billete, por lo que se puede concluir que la frase \"¡Mujeres y niños primero!\" para salvar personas seguramente se aplicó en este caso."
   ]
  },
  {
   "cell_type": "markdown",
   "id": "5884010d",
   "metadata": {},
   "source": [
    "## Segundo modelo: Árbol simple"
   ]
  },
  {
   "cell_type": "markdown",
   "id": "3f570689",
   "metadata": {},
   "source": [
    "Ahora, crearemos un árbol agregándole el parámetro \"max_depth\":La profundidad máxima del árbol. Definimos profundidad como el número de nodos que atraviesa una observación (cuantas \"preguntas\" se le hacen)."
   ]
  },
  {
   "cell_type": "code",
   "execution_count": 23,
   "id": "77b71a74",
   "metadata": {},
   "outputs": [],
   "source": [
    "# Creamos el modelo\n",
    "arbol_simple = tree.DecisionTreeClassifier(max_depth=3)"
   ]
  },
  {
   "cell_type": "code",
   "execution_count": 24,
   "id": "3f24dd59",
   "metadata": {},
   "outputs": [
    {
     "data": {
      "text/plain": [
       "DecisionTreeClassifier(max_depth=3)"
      ]
     },
     "execution_count": 24,
     "metadata": {},
     "output_type": "execute_result"
    }
   ],
   "source": [
    "# Hacemos el ajuste\n",
    "arbol_simple.fit(pasajeros.drop(\"superviviente\", axis=1), pasajeros.superviviente)"
   ]
  },
  {
   "cell_type": "code",
   "execution_count": 25,
   "id": "a519fce3",
   "metadata": {},
   "outputs": [],
   "source": [
    "# Exportamos el archivo\n",
    "tree.export_graphviz(arbol_simple, out_file=\"arbol_simple.dot\")"
   ]
  },
  {
   "cell_type": "markdown",
   "id": "f12b7548",
   "metadata": {},
   "source": [
    "<img src=\"arbol_simple.jpg\">"
   ]
  },
  {
   "cell_type": "markdown",
   "id": "b69c8b24",
   "metadata": {},
   "source": [
    "Vemos ahora que el árbol tuvo un diseño muchísimo más simplificado. Como lo comenté anteriormente, lo que nos interesa no es el diseño del árbol, sino lo preciso que es."
   ]
  },
  {
   "cell_type": "code",
   "execution_count": 26,
   "id": "aa5b95b5",
   "metadata": {},
   "outputs": [
    {
     "data": {
      "text/plain": [
       "0.8502134227428346"
      ]
     },
     "execution_count": 26,
     "metadata": {},
     "output_type": "execute_result"
    }
   ],
   "source": [
    "# Determinamos mediante el criterio curva ROC qué tan efectivo fue el modelo\n",
    "cross_val_score(arbol_simple, pasajeros.drop(\"superviviente\", axis=1), \n",
    "                pasajeros.superviviente, scoring=\"roc_auc\", cv=10).mean()"
   ]
  },
  {
   "cell_type": "markdown",
   "id": "6bdc56ab",
   "metadata": {},
   "source": [
    "Recordemos que entre más próximo a 1 se encuentre el criterio de curva ROC, más preciso es el modelo, por lo que quiere decir que este modelo de árbol simple fue más preciso que el anterior."
   ]
  },
  {
   "cell_type": "markdown",
   "id": "916cba9d",
   "metadata": {},
   "source": [
    "## Tercer modelo: Árbol balanceado"
   ]
  },
  {
   "cell_type": "markdown",
   "id": "58303c9f",
   "metadata": {},
   "source": [
    "También podemos crear un árbol agregándole el parámetro \"class_weight\": Para clases imbalanceadas, podemos pasar el string \"balanced\" para que sklearn genere pesos en función del número de muestras de cada clase."
   ]
  },
  {
   "cell_type": "code",
   "execution_count": 27,
   "id": "c33b1215",
   "metadata": {},
   "outputs": [],
   "source": [
    "# Creamos el modelo\n",
    "arbol_balanceado = tree.DecisionTreeClassifier(max_depth=3, class_weight=\"balanced\")"
   ]
  },
  {
   "cell_type": "code",
   "execution_count": 28,
   "id": "7ba017aa",
   "metadata": {},
   "outputs": [
    {
     "data": {
      "text/plain": [
       "DecisionTreeClassifier(class_weight='balanced', max_depth=3)"
      ]
     },
     "execution_count": 28,
     "metadata": {},
     "output_type": "execute_result"
    }
   ],
   "source": [
    "# Hacemos el ajuste\n",
    "arbol_balanceado.fit(pasajeros.drop(\"superviviente\", axis=1), pasajeros.superviviente)"
   ]
  },
  {
   "cell_type": "code",
   "execution_count": 29,
   "id": "a9dc9922",
   "metadata": {},
   "outputs": [],
   "source": [
    "# Exportamos el archivo\n",
    "tree.export_graphviz(arbol_balanceado, out_file=\"arbol_balanceado.dot\")"
   ]
  },
  {
   "cell_type": "markdown",
   "id": "e857b222",
   "metadata": {},
   "source": [
    "<img src=\"arbol_balanceado.jpg\">"
   ]
  },
  {
   "cell_type": "code",
   "execution_count": 30,
   "id": "abf0cce2",
   "metadata": {},
   "outputs": [
    {
     "data": {
      "text/plain": [
       "0.8615064652123475"
      ]
     },
     "execution_count": 30,
     "metadata": {},
     "output_type": "execute_result"
    }
   ],
   "source": [
    "# Determinamos mediante el criterio curva ROC qué tan efectivo fue el modelo\n",
    "cross_val_score(arbol_balanceado, pasajeros.drop(\"superviviente\", axis=1), \n",
    "                pasajeros.superviviente, scoring=\"roc_auc\", cv=10).mean()"
   ]
  },
  {
   "cell_type": "markdown",
   "id": "09cb6a64",
   "metadata": {},
   "source": [
    "Observamos que a comparación con el segundo modelo, éste mejoró un poquito más."
   ]
  },
  {
   "cell_type": "markdown",
   "id": "4894cd4f",
   "metadata": {},
   "source": [
    "Así como tomamos el criterio de \"curva ROC\" para determinar qué tan preciso fue un modelo, también pudimos haber tomado el criterio de \"precisión\"."
   ]
  },
  {
   "cell_type": "code",
   "execution_count": 31,
   "id": "301a8666",
   "metadata": {},
   "outputs": [
    {
     "data": {
      "text/plain": [
       "0.7411115910638909"
      ]
     },
     "execution_count": 31,
     "metadata": {},
     "output_type": "execute_result"
    }
   ],
   "source": [
    "# Determinamos ahora con el modelo de precisión qué tan efectivo fue el modelo\n",
    "cross_val_score(arbol_balanceado, pasajeros.drop(\"superviviente\", axis=1), pasajeros.superviviente,\n",
    "                scoring=\"precision\", cv=10).mean()"
   ]
  },
  {
   "cell_type": "markdown",
   "id": "c8ead388",
   "metadata": {},
   "source": [
    "Cabe recalcar que no puedes comparar un resultado obtenido con el criterio de precisión con uno obtenido con el criterio de curva ROC. Es decir, solamente podrás comparar los criterios de los modelos, curvas ROC con curvas ROC, o precisión con precisión."
   ]
  },
  {
   "cell_type": "markdown",
   "id": "345977b6",
   "metadata": {},
   "source": [
    "## Cuarto modelo: Árbol aleatorio"
   ]
  },
  {
   "cell_type": "markdown",
   "id": "8ee2660b",
   "metadata": {},
   "source": [
    "Además del algoritmo CART para generar árboles, scikit-learn también proporciona una clase de arboles llamada ExtraTreeClassifier, o Extremely Random Trees (Árboles Extremadamente Aleatorios). En estos árboles, en lugar de seleccionar en cada nodo la párticion que proporciona la mayor ganancia de información, se decide una partición al azar."
   ]
  },
  {
   "cell_type": "code",
   "execution_count": 32,
   "id": "784dcb9d",
   "metadata": {},
   "outputs": [],
   "source": [
    "# Creamos el modelo\n",
    "arbol_aleatorio = tree.ExtraTreeClassifier(max_features=1)"
   ]
  },
  {
   "cell_type": "code",
   "execution_count": 33,
   "id": "32ab0c74",
   "metadata": {},
   "outputs": [
    {
     "data": {
      "text/plain": [
       "ExtraTreeClassifier(max_features=1)"
      ]
     },
     "execution_count": 33,
     "metadata": {},
     "output_type": "execute_result"
    }
   ],
   "source": [
    "# Hacemos el ajuste\n",
    "arbol_aleatorio.fit(pasajeros.drop(\"superviviente\", axis=1), pasajeros.superviviente)"
   ]
  },
  {
   "cell_type": "code",
   "execution_count": 34,
   "id": "fa2b1aa8",
   "metadata": {},
   "outputs": [],
   "source": [
    "# Exportamos el archivo\n",
    "tree.export_graphviz(arbol_aleatorio, out_file=\"arbol_aleatorio.dot\")"
   ]
  },
  {
   "cell_type": "markdown",
   "id": "e49124f0",
   "metadata": {},
   "source": [
    "<img src=\"arbol_aleatorio.jpg\">"
   ]
  },
  {
   "cell_type": "markdown",
   "id": "3f71a184",
   "metadata": {},
   "source": [
    "¡Podemos observar que este árbol fue incluso muchísimo más grande que el primero!"
   ]
  },
  {
   "cell_type": "code",
   "execution_count": 35,
   "id": "c719d6a4",
   "metadata": {},
   "outputs": [
    {
     "data": {
      "text/plain": [
       "0.7382785841609371"
      ]
     },
     "execution_count": 35,
     "metadata": {},
     "output_type": "execute_result"
    }
   ],
   "source": [
    "# Determinamos mediante el criterio curva ROC qué tan efectivo fue el modelo\n",
    "cross_val_score(arbol_aleatorio, pasajeros.drop(\"superviviente\", axis=1), pasajeros.superviviente, scoring=\"roc_auc\",\n",
    "                cv=10).mean()"
   ]
  },
  {
   "cell_type": "markdown",
   "id": "7a48c778",
   "metadata": {},
   "source": [
    "Para este caso, los árboles aleatorios funcionan peor que los árboles de decisión por sí mismos."
   ]
  },
  {
   "cell_type": "markdown",
   "id": "8a4d2223",
   "metadata": {},
   "source": [
    "En base a estos modelos, podemos concluir que el mejor de los 4 fue el tercero, es decir, el modelo de árbol balanceado."
   ]
  }
 ],
 "metadata": {
  "kernelspec": {
   "display_name": "Python 3 (ipykernel)",
   "language": "python",
   "name": "python3"
  },
  "language_info": {
   "codemirror_mode": {
    "name": "ipython",
    "version": 3
   },
   "file_extension": ".py",
   "mimetype": "text/x-python",
   "name": "python",
   "nbconvert_exporter": "python",
   "pygments_lexer": "ipython3",
   "version": "3.8.0"
  }
 },
 "nbformat": 4,
 "nbformat_minor": 5
}
